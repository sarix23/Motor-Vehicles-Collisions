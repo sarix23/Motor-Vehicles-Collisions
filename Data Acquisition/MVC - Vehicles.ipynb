{
 "cells": [
  {
   "cell_type": "markdown",
   "id": "64080736",
   "metadata": {},
   "source": [
    "# **Motor Vehicle Collisions - Vehicles in New York City**\n",
    "\n",
    "## NYC Open Data API - powered by Socrata\n",
    "\n",
    "API documentation available here: https://dev.socrata.com/foundry/data.cityofnewyork.us/bm4k-52h4 \n",
    "New York City open data source: https://data.cityofnewyork.us/Public-Safety/Motor-Vehicle-Collisions-Vehicles/bm4k-52h4 \n",
    "\n",
    "### Data description\n",
    "The Motor Vehicle Collisions vehicle table contains details on each vehicle involved in the crash. Each row represents a motor vehicle involved in a crash. The data in this table goes back to April 2016 when crash reporting switched to an electronic system.\n",
    "\n",
    "The Motor Vehicle Collisions data tables contain information from all police reported motor vehicle collisions in NYC. The police report (MV104-AN) is required to be filled out for collisions where someone is injured or killed, or where there is at least $1000 worth of damage (https://www.nhtsa.gov/sites/nhtsa.dot.gov/files/documents/nyoverlaymv-104anrev052004.pdf). It should be noted that the data is preliminary and subject to change when the MV-104AN forms are amended based on revised crash details."
   ]
  },
  {
   "cell_type": "markdown",
   "id": "3d39258e",
   "metadata": {},
   "source": [
    "### Libraries and Packages\n",
    "Make sure to install these packages before running:"
   ]
  },
  {
   "cell_type": "code",
   "execution_count": 5,
   "id": "f37832c4",
   "metadata": {},
   "outputs": [
    {
     "name": "stdout",
     "output_type": "stream",
     "text": [
      "Requirement already satisfied: sodapy in /Users/sara/opt/miniconda3/lib/python3.8/site-packages (2.2.0)\r\n",
      "Requirement already satisfied: requests>=2.28.1 in /Users/sara/opt/miniconda3/lib/python3.8/site-packages (from sodapy) (2.31.0)\r\n",
      "Requirement already satisfied: charset-normalizer<4,>=2 in /Users/sara/opt/miniconda3/lib/python3.8/site-packages (from requests>=2.28.1->sodapy) (3.1.0)\r\n",
      "Requirement already satisfied: idna<4,>=2.5 in /Users/sara/opt/miniconda3/lib/python3.8/site-packages (from requests>=2.28.1->sodapy) (2.10)\r\n",
      "Requirement already satisfied: urllib3<3,>=1.21.1 in /Users/sara/opt/miniconda3/lib/python3.8/site-packages (from requests>=2.28.1->sodapy) (2.0.2)\r\n",
      "Requirement already satisfied: certifi>=2017.4.17 in /Users/sara/opt/miniconda3/lib/python3.8/site-packages (from requests>=2.28.1->sodapy) (2022.12.7)\r\n"
     ]
    }
   ],
   "source": [
    "# !pip install pandas\n",
    "# !pip install sodapy"
   ]
  },
  {
   "cell_type": "markdown",
   "id": "a8bf42bc",
   "metadata": {},
   "source": [
    "Now import them:"
   ]
  },
  {
   "cell_type": "code",
   "execution_count": 1,
   "id": "eaa62c96",
   "metadata": {},
   "outputs": [],
   "source": [
    "import pandas as pd\n",
    "from sodapy import Socrata\n",
    "from datetime import datetime\n",
    "import json\n",
    "from requests.exceptions import ReadTimeout"
   ]
  },
  {
   "cell_type": "markdown",
   "id": "d7a10630",
   "metadata": {},
   "source": [
    "### Generate an App Token\n",
    "All requests should include an app token that identifies your application, and each application should have its own unique app token. A limited number of requests can be made without an app token, but they are subject to much lower throttling limits than request that do include one. With an app token, your application is guaranteed access to it's own pool of requests. If you don't have an app token yet, click the button to the right to sign up for one.\n",
    "\n",
    "Once you have an app token, you can include it with your request either by using the *X-App-Token HTTP header*, or by passing it via the *$$app_token* parameter on your URL.\n",
    "\n",
    "Here you can get your own token: https://data.cityofnewyork.us/profile/edit/developer_settings "
   ]
  },
  {
   "cell_type": "code",
   "execution_count": 2,
   "id": "aebf308d",
   "metadata": {},
   "outputs": [],
   "source": [
    "# Insert credential\n",
    "from getpass import getpass\n",
    "\n",
    "user = input('Insert your email: ')\n",
    "password = getpass('Insert your password: ')\n",
    "token = getpass('Insert your app token: ') "
   ]
  },
  {
   "cell_type": "markdown",
   "id": "4c21a34d",
   "metadata": {},
   "source": [
    "### Client Authentication\n",
    "Initialize the `Socrata` client."
   ]
  },
  {
   "cell_type": "code",
   "execution_count": 3,
   "id": "15f9fb87",
   "metadata": {},
   "outputs": [],
   "source": [
    "client = Socrata(\"data.cityofnewyork.us\",\n",
    "                  token,\n",
    "                  username=user,\n",
    "                  password=password)"
   ]
  },
  {
   "cell_type": "markdown",
   "id": "775da1cf",
   "metadata": {},
   "source": [
    "### Get Data\n",
    "Define the main variables."
   ]
  },
  {
   "cell_type": "code",
   "execution_count": 4,
   "id": "eeb3718c",
   "metadata": {},
   "outputs": [],
   "source": [
    "# Variables to keep\n",
    "vars_to_select = \"unique_id, collision_id, vehicle_occupants, driver_license_status, pre_crash, contributing_factor_1\"\n",
    "dataset_id = \"bm4k-52h4\"\n",
    "# Define start and end dates\n",
    "start_date_str = '2018-01-01T00:00:00'\n",
    "end_date_str = '2018-12-31T23:59:59'\n",
    "\n",
    "# Convert dates to datetime objects\n",
    "start_date = datetime.strptime(start_date_str, '%Y-%m-%dT%H:%M:%S')\n",
    "end_date = datetime.strptime(end_date_str, '%Y-%m-%dT%H:%M:%S')\n",
    "\n",
    "# Format dates for SoQL query\n",
    "start_date_formatted = start_date.strftime('%Y-%m-%dT%H:%M:%S')\n",
    "end_date_formatted = end_date.strftime('%Y-%m-%dT%H:%M:%S')"
   ]
  },
  {
   "cell_type": "markdown",
   "id": "97f75300",
   "metadata": {},
   "source": [
    "Retrieves data from a Socrata dataset using the `sodapy` library, a Python client for the Socrata Open Data API. Initiates an API request to the Socrata dataset identified by the code assigned to the `dataset_id` variable. Utilizes a SoSQL query to filter data based on specified variables and a temporal interval defined by `start_date_formatted` and `end_date_formatted`. The `get` method from the Socrata client returns the data in JSON format."
   ]
  },
  {
   "cell_type": "code",
   "execution_count": 5,
   "id": "0845acde",
   "metadata": {},
   "outputs": [
    {
     "name": "stdout",
     "output_type": "stream",
     "text": [
      "Read timeout. Retrying...\n"
     ]
    }
   ],
   "source": [
    "# Maximum number of attempts\n",
    "max_attempts = 5\n",
    "\n",
    "# Initialize attempts counter\n",
    "attempts = 0\n",
    "\n",
    "# Execute the loop until the maximum number of attempts is reached or the timeout error is resolved\n",
    "while attempts < max_attempts:\n",
    "    try:\n",
    "        # # Retrieve data from the dataset using the Socrata client\n",
    "        results = client.get(dataset_id, \n",
    "                             select=vars_to_select, \n",
    "                             where=f\"crash_date >= '{start_date_formatted}' AND crash_date <= '{end_date_formatted}'\", \n",
    "                             limit=600000)\n",
    "        # Exit the loop if the query is successful\n",
    "        break\n",
    "    except ReadTimeout:\n",
    "        # Handle the timeout error\n",
    "        print(\"Read timeout. Retrying...\")\n",
    "        attempts += 1  # Increment the attempts counter\n",
    "\n",
    "if attempts == max_attempts:\n",
    "    print(f\"Maximum number of attempts ({max_attempts}) reached. Unable to complete the query. Try again.\")"
   ]
  },
  {
   "cell_type": "code",
   "execution_count": 6,
   "id": "c138e385",
   "metadata": {},
   "outputs": [],
   "source": [
    "# Transform results into a Dataframe pandas\n",
    "data = pd.DataFrame(results)"
   ]
  },
  {
   "cell_type": "markdown",
   "id": "c9073490",
   "metadata": {},
   "source": [
    "### Export\n",
    "Export the Dataframe pandas locally in csv."
   ]
  },
  {
   "cell_type": "code",
   "execution_count": 8,
   "id": "4465e878",
   "metadata": {},
   "outputs": [],
   "source": [
    "# Export data without automatic row identifier\n",
    "data.to_csv('Vehicles.csv', index=False)"
   ]
  }
 ],
 "metadata": {
  "kernelspec": {
   "display_name": "Python 3 (ipykernel)",
   "language": "python",
   "name": "python3"
  },
  "language_info": {
   "codemirror_mode": {
    "name": "ipython",
    "version": 3
   },
   "file_extension": ".py",
   "mimetype": "text/x-python",
   "name": "python",
   "nbconvert_exporter": "python",
   "pygments_lexer": "ipython3",
   "version": "3.8.5"
  }
 },
 "nbformat": 4,
 "nbformat_minor": 5
}
