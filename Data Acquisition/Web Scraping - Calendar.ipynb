{
 "cells": [
  {
   "cell_type": "markdown",
   "metadata": {},
   "source": [
    "# Web Scraping - Get 2018 Calendar\n",
    "The project's goal is to create a dataset that mirrors the **calendar of the year 2018**, including for each day the corresponding day of the week and an indicator to identify whether that day is a federal holiday in the United States."
   ]
  },
  {
   "cell_type": "markdown",
   "metadata": {},
   "source": [
    "## Import Packages\n",
    "The process starts by importing the necessary packages."
   ]
  },
  {
   "cell_type": "code",
   "execution_count": 1,
   "metadata": {},
   "outputs": [],
   "source": [
    "# Import packages\n",
    "import requests\n",
    "from bs4 import BeautifulSoup\n",
    "from datetime import datetime\n",
    "import pandas as pd"
   ]
  },
  {
   "cell_type": "markdown",
   "metadata": {},
   "source": [
    "Then it's important to define the main variables."
   ]
  },
  {
   "cell_type": "code",
   "execution_count": 2,
   "metadata": {},
   "outputs": [],
   "source": [
    "# Define year\n",
    "year = 2018\n",
    "\n",
    "# Initialize the calendar dataframe\n",
    "calendar = pd.DataFrame()\n",
    "\n",
    "# Define a dictionary to recode days\n",
    "recode_days = {'Mon':'Monday', 'Tue':'Tuesday', 'Wed':'Wednesday', 'Thu':'Thursday', 'Fri':'Friday', 'Sat':'Saturday', 'Sun':'Sunday'}"
   ]
  },
  {
   "cell_type": "markdown",
   "metadata": {},
   "source": [
    "## Web Scraping\n",
    "Now it's time to extract data from a calendar web page (https://www.timeanddate.com/calendar/custom.html?year=2018&month=1&country=1&typ=1&cols=1&display=1&df=1&hol=1)."
   ]
  },
  {
   "cell_type": "markdown",
   "metadata": {},
   "source": [
    "The data of interest are organized within a table with the weekdays as headers and the day numbers within the cells. Holidays are identified by the color red, unlike the other days which are colored black. \n",
    "\n",
    "As an example, January of the year 2018 has been taken, from which all the data will be extracted."
   ]
  },
  {
   "cell_type": "code",
   "execution_count": 4,
   "metadata": {},
   "outputs": [],
   "source": [
    "# Create a list of months' number\n",
    "list_month = [num for num in range(1,13)]\n",
    "\n",
    "for month in list_month:\n",
    "\n",
    "    # URL of the webpage to be downloaded\n",
    "    url_page = f\"https://www.timeanddate.com/calendar/custom.html?year={year}&month={month}&country=1&typ=1&cols=1&display=1&df=1&hol=1\"\n",
    "\n",
    "    # Make a GET request to the webpage\n",
    "    response = requests.get(url_page)\n",
    "\n",
    "    # Print the page's code\n",
    "    # print(response.text)\n",
    "\n",
    "    # -------------------------------------------------------------------------------------------------------------------------------------\n",
    "    # Use BeautifulSoup to parse the HTML content of the webpage\n",
    "    soup = BeautifulSoup(response.content, \"html.parser\")\n",
    "\n",
    "    # -------------------------------------------------------------------------------------------------------------------------------------\n",
    "    # Identify the content of the table\n",
    "    table_content = soup.find_all(\"td\", class_=\"cbm cba cmi\")[0]\n",
    "\n",
    "    # Identify the dimensions\n",
    "    nrow_table = len(table_content.find_all(\"tr\")) # each row of the table is identified with \"tr\", including the header\n",
    "    ncol_table = len(table_content.find_all(\"thead\")[0].find_all(\"td\"))\n",
    "\n",
    "    # -------------------------------------------------------------------------------------------------------------------------------------\n",
    "    # Create a list containing the weekdays\n",
    "    weekdays = (table_content.find_all(\"thead\")[0].find_all(\"td\"))*(nrow_table-1)\n",
    "    weekdays = [weekdays[x].text for x in range(len(weekdays))]\n",
    "\n",
    "    # Re-code the weekdays\n",
    "    weekdays = [recode_days[value] for value in weekdays if value in recode_days]\n",
    "\n",
    "    # Create a list containing the holidays of the month\n",
    "    find_holidays = table_content.find_all(\"div\", class_=\"ccd co1\")\n",
    "    holidays = [int(hol.text) for hol in find_holidays]\n",
    "\n",
    "    # -------------------------------------------------------------------------------------------------------------------------------------\n",
    "    # Create a list containing the number of days of the month\n",
    "    numb = [0]*((nrow_table-1)*ncol_table)\n",
    "    numb = [table_content.find_all(\"td\")[iter+ncol_table].text for iter in range(len(numb))]\n",
    "\n",
    "    # Format the values, create the date, and the Flag_Holiday field (if the day is a holiday or not)\n",
    "    date = numb.copy()\n",
    "    Flag_Holiday = numb.copy()\n",
    "    for i in range(len(numb)):\n",
    "        if numb[i]==\"\\xa0\": # Empty cell\n",
    "            date[i]=None \n",
    "        else:\n",
    "            numb[i] = int(numb[i]) # Cell containing the day number\n",
    "            date[i] = datetime(year=year, month=month, day=numb[i]).strftime('%Y-%m-%d')\n",
    "            if numb[i] in holidays:\n",
    "                Flag_Holiday[i] = True \n",
    "            else:\n",
    "                Flag_Holiday[i] = False\n",
    "\n",
    "    # -------------------------------------------------------------------------------------------------------------------------------------\n",
    "    # Create the Dataset\n",
    "    calendar_month = pd.DataFrame({'Date':date, 'Day': weekdays, 'Flag_Holiday': Flag_Holiday}).dropna().reset_index().drop('index', axis=1)\n",
    "\n",
    "    if calendar.empty == True:\n",
    "        calendar = calendar_month\n",
    "    else:\n",
    "        calendar = pd.concat([calendar,calendar_month])\n"
   ]
  },
  {
   "cell_type": "markdown",
   "metadata": {},
   "source": [
    "## Export Data\n",
    "Export data in a csv file."
   ]
  },
  {
   "cell_type": "code",
   "execution_count": 9,
   "metadata": {},
   "outputs": [],
   "source": [
    "calendar.to_csv('Calendar.csv', index=False)"
   ]
  }
 ],
 "metadata": {
  "kernelspec": {
   "display_name": "base",
   "language": "python",
   "name": "python3"
  },
  "language_info": {
   "codemirror_mode": {
    "name": "ipython",
    "version": 3
   },
   "file_extension": ".py",
   "mimetype": "text/x-python",
   "name": "python",
   "nbconvert_exporter": "python",
   "pygments_lexer": "ipython3",
   "version": "3.8.5"
  }
 },
 "nbformat": 4,
 "nbformat_minor": 2
}
